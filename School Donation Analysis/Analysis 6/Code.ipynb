d4 = schools['School State'].value_counts() ## valuecounts counts the unique values
## d4 is a Series where the index is the state names and the values are the counts of projects in each state.
d5 = data4.groupby('Donor State')['Donation ID'].count()
df = pd.concat([d4,d5],axis=1,keys=['Projects','Donations'])


df.dropna().head()

df.iplot(kind='scatter',xTitle='Projects',yTitle='Donations',title='Projects VS Donations',
         symbol='x',colorscale='paired',mode='markers')
