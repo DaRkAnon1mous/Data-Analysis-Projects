data4.head()

d1 = data4.groupby('School State')['Donation Amount'].mean().sort_values(ascending = False).head(10)
d1

d1.iplot(kind='bar',xTitle='State',yTitle='Average Donation',title='Top 10 states with max average donation',colorscale='paired')
