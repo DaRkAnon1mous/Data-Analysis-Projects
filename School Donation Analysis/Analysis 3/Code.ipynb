## using pandas
maximum = data4['Donation Amount'].max()
minimum = data4['Donation Amount'].min()
mean = data4['Donation Amount'].mean()
median = data4['Donation Amount'].median()
percentile_25 = data4['Donation Amount'].quantile(0.25)
percentile_75 = data4['Donation Amount'].quantile(0.75)

print("maximum =",maximum)
print("minimum =",minimum)
print("mean of donation amount =",mean)
print("median of donation amount =",median)
print("25 percentile =",percentile_25)
print("75 percentile =",percentile_75)



## using numpy

maximum = data4['Donation Amount'].dropna().max()
minimum = data4['Donation Amount'].dropna().min()
mean = np.mean(data4['Donation Amount'].dropna())
median = np.median(data4['Donation Amount'].dropna())
percentile = np.percentile(data4['Donation Amount'].dropna(),[25,75])

print("maximum =",maximum)
print("minimum =",minimum)
print("mean of donation amount =",np.round(mean,2))
print("median of donation amount =",np.round(median,2))
print("percentile 25 and 75 =",percentile)
