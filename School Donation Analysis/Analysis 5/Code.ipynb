data4.head()
d2 = data4.groupby('Donor State')['Donation ID'].count().sort_values(ascending=False).head(10)
d2 ## basically we grouped donor state with id so it will count the number of IDs in a state and gives which one at the top
d2.iplot(kind='bar',xTitle='State',yTitle='Number of Donation',title='Donation Count')
