x = np.sort(data4['Donation Amount'].dropna())
y = np.arange(1,len(x)+1)/len(x) ##len(x): This gives the number of elements in the sorted donation amounts array x.
## np.arange(1, len(x) + 1 / len(x)): This creates an array of values starting from 1 to len(x) + 1 / len(x), with a step size of 1.
plt.plot(x,y,marker='.')
