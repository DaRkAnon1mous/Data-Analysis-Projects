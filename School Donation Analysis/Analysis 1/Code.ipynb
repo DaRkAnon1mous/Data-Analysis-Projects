schools.head()

s = schools['School State'].value_counts().sort_values(ascending = False).head(10)
s

s.iplot(kind='bar',xTitle='States',yTitle='No. of Schools',title='No. of Schools each states involved in project')
