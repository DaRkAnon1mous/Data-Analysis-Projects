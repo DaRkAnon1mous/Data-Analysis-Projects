# Assuming df is your DataFrame with 'Projects' and 'Donations' columns
# First, let's ensure there are no NaNs or infinite values in the data
df = df.dropna(subset=['Projects', 'Donations'])
df = df[np.isfinite(df['Projects'])]
df = df[np.isfinite(df['Donations'])]
# Check if there's enough data to perform the fit
if len(df) < 2:
    print("Not enough data to perform linear regression.")
else:
    # Scale the data if necessary
    projects = df.Projects.values
    donations = df.Donations.values
    if np.ptp(projects) == 0 or np.ptp(donations) == 0:
        print("Variance in Projects or Donations is zero, cannot fit a line.")
    else:
        # Calculate the slope and intercept for the linear model
        slope, intercept = np.polyfit(projects, donations, 1)## it return the polynomial and required 3 parameters
        # Define the x values for the linear model line (min and max of Projects)
        x = np.array([projects.min(), projects.max()]) ## min and max of projects
        # Calculate the corresponding y values using the linear equation y = mx + c
        y = slope * x + intercept
        plt.plot(x,y)



df.plot.scatter(x='Projects',  y ='Donations')
slope,intercept = np.polyfit(df.Projects,df.Donations,1) ## it return the polynomial and required 3 parameters
x = np.array([df.Projects.min(),df.Projects.max()]) ## min and max of projects
y = slope * x +intercept ## y = mx+c formula
plt.plot(x,y)
plt.tight_layout()
plt.margins(0.35)
##dots below the line shows that the states have not good donation
##and dots above have better donations
## the line represents the boundary line of good and bad
